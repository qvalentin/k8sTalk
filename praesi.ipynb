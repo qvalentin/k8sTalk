{
 "cells": [
  {
   "cell_type": "code",
   "execution_count": 5,
   "metadata": {
    "slideshow": {
     "slide_type": "skip"
    }
   },
   "outputs": [
    {
     "data": {
      "text/html": [
       "<style>\n",
       "body,h1,h2,h3,h4,h5,p,div{font-family:'ubuntu' !important};\n",
       ".CodeMirror-line{font-family:'Fira Sans Book' !important}\n",
       "</style>\n"
      ],
      "text/plain": [
       "<IPython.core.display.HTML object>"
      ]
     },
     "metadata": {},
     "output_type": "display_data"
    }
   ],
   "source": [
    "%%html\n",
    "<style>\n",
    "body,h1,h2,h3,h4,h5,p,div{font-family:'ubuntu' !important};\n",
    ".CodeMirror-line{font-family:'Fira Sans Book' !important}\n",
    "</style>"
   ]
  },
  {
   "cell_type": "markdown",
   "metadata": {
    "slideshow": {
     "slide_type": "slide"
    }
   },
   "source": [
    "\n",
    "<h1>Kubernetes</h1>\n",
    "\n",
    "\n",
    "\n",
    "<img src=\"assets/k8s-logo.png\" alt=\"k8s-logo\" style=\"width: 400px;\"/>"
   ]
  },
  {
   "cell_type": "markdown",
   "metadata": {
    "slideshow": {
     "slide_type": "subslide"
    }
   },
   "source": [
    "### Agenda\n",
    "* Was ist Kubernetes?\n",
    "* Grundlagen\n",
    "* kubectl\n",
    "* Deployment Beispiel"
   ]
  },
  {
   "cell_type": "markdown",
   "metadata": {
    "slideshow": {
     "slide_type": "slide"
    }
   },
   "source": [
    "# Was ist Kubernetes\n"
   ]
  },
  {
   "cell_type": "markdown",
   "metadata": {
    "slideshow": {
     "slide_type": "fragment"
    }
   },
   "source": [
    "* Programm zum automatisierten Deployment"
   ]
  },
  {
   "cell_type": "markdown",
   "metadata": {
    "slideshow": {
     "slide_type": "fragment"
    }
   },
   "source": [
    "* basierend auf der Container Runtime von Docker"
   ]
  },
  {
   "cell_type": "markdown",
   "metadata": {
    "slideshow": {
     "slide_type": "fragment"
    }
   },
   "source": [
    "* cloud-native"
   ]
  },
  {
   "cell_type": "markdown",
   "metadata": {
    "slideshow": {
     "slide_type": "subslide"
    }
   },
   "source": [
    "# verteilt\n",
    "\n",
    "* Kubernetes verteilt Deployments über verschiedene Rechner\n",
    "* eine Instanz heißt Cluster und besteht aus mehreren Nodes"
   ]
  },
  {
   "cell_type": "markdown",
   "metadata": {
    "slideshow": {
     "slide_type": "fragment"
    }
   },
   "source": [
    "# zuverlässig und hochverfügbar\n",
    "* Kubernetes sorgt selbst dafür, dass Deployments laufen (self-healing)\n",
    "* Deployments erfolgen ohne Downtime"
   ]
  },
  {
   "cell_type": "markdown",
   "metadata": {
    "slideshow": {
     "slide_type": "fragment"
    }
   },
   "source": [
    "# skalierbar\n",
    "* Deployments können je nach Last automatisch skaliert werden\n",
    "* Clusterresourcen können dynamisch erweitert werden (Nodes hinzufügen)"
   ]
  },
  {
   "cell_type": "markdown",
   "metadata": {
    "slideshow": {
     "slide_type": "subslide"
    }
   },
   "source": [
    "# Kubernetes und Microservices\n",
    "K8s begünstigt Micorservice Architekturen  \n",
    "-> und somit agile Arbeitsweisen "
   ]
  },
  {
   "cell_type": "markdown",
   "metadata": {
    "slideshow": {
     "slide_type": "slide"
    }
   },
   "source": [
    "# Grundlagen"
   ]
  },
  {
   "cell_type": "markdown",
   "metadata": {
    "slideshow": {
     "slide_type": "subslide"
    }
   },
   "source": [
    "<h1> Deklarative Konfiguration  <br>oder Infrastructure as code</h1>\n",
    "\n",
    "\n",
    "\n"
   ]
  },
  {
   "cell_type": "markdown",
   "metadata": {
    "slideshow": {
     "slide_type": "fragment"
    }
   },
   "source": [
    "* alles in K8s sind API-Resourcen\n",
    "* Interaktionen mit Kubernetes erfolgen über diese API (kubectl)\n",
    "* Befehle können ausgeführt werden"
   ]
  },
  {
   "cell_type": "markdown",
   "metadata": {
    "slideshow": {
     "slide_type": "fragment"
    }
   },
   "source": [
    "* **besser:** keine Anweisungen ausführen, sondern nur Config-Dateien bereitstellen\n",
    "* Verwaltung der Config-Dateien mit VCS\n",
    "* Ziel: Zustand des Clusters entspricht dem in der Versionsverwaltung"
   ]
  },
  {
   "cell_type": "markdown",
   "metadata": {
    "slideshow": {
     "slide_type": "subslide"
    }
   },
   "source": [
    "# kubectl\n",
    "* cli für die K8s Api"
   ]
  },
  {
   "cell_type": "code",
   "execution_count": null,
   "metadata": {
    "slideshow": {
     "slide_type": "fragment"
    }
   },
   "outputs": [],
   "source": [
    "! kubectl version"
   ]
  },
  {
   "cell_type": "markdown",
   "metadata": {
    "slideshow": {
     "slide_type": "subslide"
    }
   },
   "source": [
    "# ein paar Kubernetes Resourcen"
   ]
  },
  {
   "cell_type": "markdown",
   "metadata": {
    "slideshow": {
     "slide_type": "subslide"
    }
   },
   "source": [
    "\n",
    "<img src=\"assets/ressources.png\" alt=\"k8s-logo\" style=\"max-height:90vh\"/>"
   ]
  },
  {
   "cell_type": "markdown",
   "metadata": {
    "slideshow": {
     "slide_type": "subslide"
    }
   },
   "source": [
    "# Pod\n",
    "* enthält einen oder mehrer Container\n",
    "* Conatainer teilen sich Netzwerk und eventuell Speicher\n",
    "* kleinste deploybare Einheit"
   ]
  },
  {
   "cell_type": "code",
   "execution_count": 6,
   "metadata": {
    "slideshow": {
     "slide_type": "fragment"
    }
   },
   "outputs": [
    {
     "name": "stdout",
     "output_type": "stream",
     "text": [
      "NAME                                           READY   STATUS    RESTARTS   AGE\r\n",
      "filefighter-db-deployment-7f64f99568-46svj     1/1     Running   0          45m\r\n",
      "filefighter-fe-deployment-65b58f495f-56dhp     1/1     Running   1          44h\r\n",
      "filefighter-fe-deployment-65b58f495f-vgnk7     1/1     Running   1          44h\r\n",
      "filefighter-rest-deployment-775cf944d7-zfdgs   1/1     Running   4          48m\r\n"
     ]
    }
   ],
   "source": [
    "! kubectl get pods"
   ]
  },
  {
   "cell_type": "code",
   "execution_count": null,
   "metadata": {
    "slideshow": {
     "slide_type": "subslide"
    }
   },
   "outputs": [],
   "source": [
    "! kubectl describe pods -l app=filefighter-db"
   ]
  },
  {
   "cell_type": "markdown",
   "metadata": {
    "slideshow": {
     "slide_type": "subslide"
    }
   },
   "source": [
    "# Deployment\n",
    "* gibt den gewünschten Zustand eines Deployments an\n",
    "* beschreibt Pods\n",
    "* ermöglicht Sklarierung (ReplicaSets)"
   ]
  },
  {
   "cell_type": "code",
   "execution_count": null,
   "metadata": {
    "slideshow": {
     "slide_type": "fragment"
    }
   },
   "outputs": [],
   "source": [
    "! kubeclt get deployments"
   ]
  },
  {
   "cell_type": "code",
   "execution_count": null,
   "metadata": {
    "slideshow": {
     "slide_type": "subslide"
    }
   },
   "outputs": [],
   "source": [
    "! kubectl describe deployment filefighter-db-deployment"
   ]
  },
  {
   "cell_type": "markdown",
   "metadata": {
    "slideshow": {
     "slide_type": "subslide"
    }
   },
   "source": [
    "# Services\n",
    "* macht Pods über das Netzwerk erreichbar (innerhalb des Clusters)\n",
    "* inklusive Loadbalancing\n",
    "* ermöglicht z.B. Kommunikation zwischen Pods"
   ]
  },
  {
   "cell_type": "code",
   "execution_count": null,
   "metadata": {
    "slideshow": {
     "slide_type": "fragment"
    }
   },
   "outputs": [],
   "source": [
    "! kubeclt get services"
   ]
  },
  {
   "cell_type": "markdown",
   "metadata": {
    "slideshow": {
     "slide_type": "subslide"
    }
   },
   "source": [
    "# Volumes\n",
    "* da Container zustandlos sind müssen die Daten an anderer Stelle gespeichert werden\n",
    "* können von Containern gemountet werden\n",
    "* gibt verschieden Volumetypen je nach Anwendungsfall\n"
   ]
  },
  {
   "cell_type": "markdown",
   "metadata": {
    "slideshow": {
     "slide_type": "subslide"
    }
   },
   "source": [
    "# Secrets\n",
    "* zum Speichern senitiver Daten\n",
    "* werden in Pods eingebunden\n",
    "* entweder als Datei oder als Umgebungsvariablen"
   ]
  },
  {
   "cell_type": "code",
   "execution_count": null,
   "metadata": {
    "slideshow": {
     "slide_type": "fragment"
    }
   },
   "outputs": [],
   "source": [
    "! kubectl get secrets"
   ]
  },
  {
   "cell_type": "markdown",
   "metadata": {
    "slideshow": {
     "slide_type": "slide"
    }
   },
   "source": [
    "# Deployment Beispiel"
   ]
  },
  {
   "cell_type": "markdown",
   "metadata": {
    "slideshow": {
     "slide_type": "fragment"
    }
   },
   "source": [
    "# FileFighter\n",
    "\n",
    "<img src=\"assets/ff-logo.png\" alt=\"k8s-logo\" style=\"max-width: 400px;\"/>"
   ]
  },
  {
   "cell_type": "markdown",
   "metadata": {
    "slideshow": {
     "slide_type": "subslide"
    }
   },
   "source": [
    "\n",
    "<img src=\"assets/arch2.svg\" alt=\"k8s-logo\" style=\"\"/>"
   ]
  }
 ],
 "metadata": {
  "celltoolbar": "Slideshow",
  "kernelspec": {
   "display_name": "Python 3",
   "language": "python",
   "name": "python3"
  },
  "language_info": {
   "codemirror_mode": {
    "name": "ipython",
    "version": 3
   },
   "file_extension": ".py",
   "mimetype": "text/x-python",
   "name": "python",
   "nbconvert_exporter": "python",
   "pygments_lexer": "ipython3",
   "version": "3.8.3"
  }
 },
 "nbformat": 4,
 "nbformat_minor": 4
}
