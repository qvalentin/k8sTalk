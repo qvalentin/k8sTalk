{
 "cells": [
  {
   "cell_type": "code",
   "execution_count": 3,
   "metadata": {
    "slideshow": {
     "slide_type": "skip"
    }
   },
   "outputs": [
    {
     "data": {
      "text/html": [
       "<style>\n",
       "body,h1,h2,h3,h4,h5,p,div{font-family:'ubuntu' !important};\n",
       ".CodeMirror-line{font-family:'Fira Sans Book' !important}\n",
       "</style>\n"
      ],
      "text/plain": [
       "<IPython.core.display.HTML object>"
      ]
     },
     "metadata": {},
     "output_type": "display_data"
    }
   ],
   "source": [
    "%%html\n",
    "<style>\n",
    "body,h1,h2,h3,h4,h5,p,div{font-family:'ubuntu' !important};\n",
    ".CodeMirror-line{font-family:'Fira Sans Book' !important}\n",
    "</style>"
   ]
  },
  {
   "cell_type": "markdown",
   "metadata": {
    "slideshow": {
     "slide_type": "slide"
    }
   },
   "source": [
    "\n",
    "<h1 style=\"text-align:center\">Kubernetes</h1>\n",
    "\n",
    "\n",
    "\n",
    "<img src=\"assets/k8s-logo.png\" alt=\"k8s-logo\" style=\"  display: block;\n",
    "  margin-left: auto;\n",
    "  margin-right: auto;\n",
    "  max-width:60vh\"/>\n",
    "<br><br>\n",
    "<small>10.11.2020 - Valentin Ehnes </small>"
   ]
  },
  {
   "cell_type": "markdown",
   "metadata": {
    "slideshow": {
     "slide_type": "subslide"
    }
   },
   "source": [
    "### Agenda\n",
    "* Was ist Kubernetes?\n",
    "* Grundlagen\n",
    "* kubectl\n",
    "* Deployment Beispiel"
   ]
  },
  {
   "cell_type": "markdown",
   "metadata": {
    "slideshow": {
     "slide_type": "slide"
    }
   },
   "source": [
    "# Was ist Kubernetes\n"
   ]
  },
  {
   "cell_type": "markdown",
   "metadata": {
    "slideshow": {
     "slide_type": "fragment"
    }
   },
   "source": [
    "* opensource Programm zum automatisierten Deployment"
   ]
  },
  {
   "cell_type": "markdown",
   "metadata": {
    "slideshow": {
     "slide_type": "fragment"
    }
   },
   "source": [
    "* basierend auf der Container Runtime von Docker"
   ]
  },
  {
   "cell_type": "markdown",
   "metadata": {
    "slideshow": {
     "slide_type": "fragment"
    }
   },
   "source": [
    "* cloud-native"
   ]
  },
  {
   "cell_type": "markdown",
   "metadata": {
    "slideshow": {
     "slide_type": "subslide"
    }
   },
   "source": [
    "# verteilt\n",
    "\n",
    "* Kubernetes verteilt Deployments über verschiedene Rechner\n",
    "* eine Instanz heißt Cluster und besteht aus mehreren Nodes (Rechner)"
   ]
  },
  {
   "cell_type": "markdown",
   "metadata": {
    "slideshow": {
     "slide_type": "fragment"
    }
   },
   "source": [
    "# zuverlässig und hochverfügbar\n",
    "* Kubernetes sorgt selbst dafür, dass Deployments laufen (self-healing)\n",
    "* Deployments erfolgen ohne Downtime"
   ]
  },
  {
   "cell_type": "markdown",
   "metadata": {
    "slideshow": {
     "slide_type": "fragment"
    }
   },
   "source": [
    "# skalierbar\n",
    "* Deployments können je nach Last automatisch skaliert werden\n",
    "* Clusterresourcen können dynamisch erweitert werden (Nodes hinzufügen)"
   ]
  },
  {
   "cell_type": "markdown",
   "metadata": {
    "slideshow": {
     "slide_type": "subslide"
    }
   },
   "source": [
    "# Kubernetes und Microservices\n",
    "K8s begünstigt Micorservice Architekturen  \n",
    "-> und somit agile Arbeitsweisen "
   ]
  },
  {
   "cell_type": "markdown",
   "metadata": {
    "slideshow": {
     "slide_type": "slide"
    }
   },
   "source": [
    "# Grundlagen"
   ]
  },
  {
   "cell_type": "markdown",
   "metadata": {
    "slideshow": {
     "slide_type": "subslide"
    }
   },
   "source": [
    "<h1> Deklarative Konfiguration  <br>oder Infrastructure as code</h1>\n",
    "\n",
    "\n",
    "\n"
   ]
  },
  {
   "cell_type": "markdown",
   "metadata": {
    "slideshow": {
     "slide_type": "fragment"
    }
   },
   "source": [
    "* alles in K8s sind API-Resourcen\n",
    "* Interaktionen mit Kubernetes erfolgen über diese API (kubectl)\n",
    "* Befehle können ausgeführt werden"
   ]
  },
  {
   "cell_type": "markdown",
   "metadata": {
    "slideshow": {
     "slide_type": "fragment"
    }
   },
   "source": [
    "* **besser:** keine Anweisungen ausführen, sondern nur Config-Dateien bereitstellen\n",
    "* Verwaltung der Config-Dateien mit VCS\n",
    "* Ziel: Zustand des Clusters entspricht dem in der Versionsverwaltung"
   ]
  },
  {
   "cell_type": "markdown",
   "metadata": {
    "slideshow": {
     "slide_type": "subslide"
    }
   },
   "source": [
    "# kubectl\n",
    "* cli für die K8s Api"
   ]
  },
  {
   "cell_type": "code",
   "execution_count": 4,
   "metadata": {
    "slideshow": {
     "slide_type": "fragment"
    }
   },
   "outputs": [
    {
     "name": "stdout",
     "output_type": "stream",
     "text": [
      "Client Version: version.Info{Major:\"1\", Minor:\"19\", GitVersion:\"v1.19.3\", GitCommit:\"1e11e4a2108024935ecfcb2912226cedeafd99df\", GitTreeState:\"clean\", BuildDate:\"2020-10-14T12:50:19Z\", GoVersion:\"go1.15.2\", Compiler:\"gc\", Platform:\"linux/amd64\"}\r\n",
      "Server Version: version.Info{Major:\"1\", Minor:\"19\", GitVersion:\"v1.19.2\", GitCommit:\"f5743093fd1c663cb0cbc89748f730662345d44d\", GitTreeState:\"clean\", BuildDate:\"2020-09-16T13:32:58Z\", GoVersion:\"go1.15\", Compiler:\"gc\", Platform:\"linux/amd64\"}\r\n"
     ]
    }
   ],
   "source": [
    "! kubectl version"
   ]
  },
  {
   "cell_type": "markdown",
   "metadata": {
    "slideshow": {
     "slide_type": "fragment"
    }
   },
   "source": [
    "# lokaler K8s Cluster mit Minikube"
   ]
  },
  {
   "cell_type": "code",
   "execution_count": 5,
   "metadata": {
    "slideshow": {
     "slide_type": "fragment"
    }
   },
   "outputs": [
    {
     "name": "stdout",
     "output_type": "stream",
     "text": [
      "minikube\r\n",
      "type: Control Plane\r\n",
      "host: Running\r\n",
      "kubelet: Running\r\n",
      "apiserver: Running\r\n",
      "kubeconfig: Configured\r\n",
      "\r\n"
     ]
    }
   ],
   "source": [
    "! minikube status"
   ]
  },
  {
   "cell_type": "markdown",
   "metadata": {
    "slideshow": {
     "slide_type": "subslide"
    }
   },
   "source": [
    "# ein paar Kubernetes Resourcen"
   ]
  },
  {
   "cell_type": "markdown",
   "metadata": {
    "slideshow": {
     "slide_type": "subslide"
    }
   },
   "source": [
    "\n",
    "<img src=\"assets/ressources.png\"  style=\"max-height:90vh\"/>"
   ]
  },
  {
   "cell_type": "markdown",
   "metadata": {
    "slideshow": {
     "slide_type": "subslide"
    }
   },
   "source": [
    "# Pod\n",
    "* enthält einen oder mehrer Container\n",
    "* Container teilen sich Netzwerk und eventuell Speicher\n",
    "* kleinste deploybare Einheit"
   ]
  },
  {
   "cell_type": "code",
   "execution_count": 6,
   "metadata": {
    "slideshow": {
     "slide_type": "fragment"
    }
   },
   "outputs": [
    {
     "name": "stdout",
     "output_type": "stream",
     "text": [
      "NAME                                           READY   STATUS    RESTARTS   AGE\r\n",
      "filefighter-db-deployment-5bcf8f5f7b-jbdlb     1/1     Running   0          31m\r\n",
      "filefighter-fe-deployment-65b58f495f-qbxkv     1/1     Running   1          24h\r\n",
      "filefighter-fe-deployment-65b58f495f-x2mc7     1/1     Running   2          2d20h\r\n",
      "filefighter-rest-deployment-79948fdbdc-csmvs   1/1     Running   0          32m\r\n"
     ]
    }
   ],
   "source": [
    "! kubectl get pods"
   ]
  },
  {
   "cell_type": "code",
   "execution_count": 7,
   "metadata": {
    "slideshow": {
     "slide_type": "subslide"
    }
   },
   "outputs": [
    {
     "name": "stdout",
     "output_type": "stream",
     "text": [
      "Name:         filefighter-db-deployment-5bcf8f5f7b-jbdlb\r\n",
      "Namespace:    default\r\n",
      "Priority:     0\r\n",
      "Node:         minikube/192.168.49.2\r\n",
      "Start Time:   Sun, 08 Nov 2020 14:39:43 +0100\r\n",
      "Labels:       app=filefighter-db\r\n",
      "              pod-template-hash=5bcf8f5f7b\r\n",
      "Annotations:  <none>\r\n",
      "Status:       Running\r\n",
      "IP:           172.17.0.5\r\n",
      "IPs:\r\n",
      "  IP:           172.17.0.5\r\n",
      "Controlled By:  ReplicaSet/filefighter-db-deployment-5bcf8f5f7b\r\n",
      "Containers:\r\n",
      "  ff-db:\r\n",
      "    Container ID:   docker://f99bca88ffa0b2ae84afcd4225a1edd45b55a3bd7a823966e517bdd9d5249317\r\n",
      "    Image:          mongo:latest\r\n",
      "    Image ID:       docker-pullable://mongo@sha256:efc408845bc917d0b7fd97a8590e9c8d3c314f58cee651bd3030c9cf2ce9032d\r\n",
      "    Port:           27017/TCP\r\n",
      "    Host Port:      0/TCP\r\n",
      "    State:          Running\r\n",
      "      Started:      Sun, 08 Nov 2020 14:39:46 +0100\r\n",
      "    Ready:          True\r\n",
      "    Restart Count:  0\r\n",
      "    Environment:\r\n",
      "      MONGO_INITDB:                filefighter\r\n",
      "      MONGO_INITDB_ROOT_USERNAME:  <set to the key 'username' in secret 'ff-secret'>  Optional: false\r\n",
      "      MONGO_INITDB_ROOT_PASSWORD:  <set to the key 'password' in secret 'ff-secret'>  Optional: false\r\n",
      "    Mounts:\r\n",
      "      /var/run/secrets/kubernetes.io/serviceaccount from default-token-bqlrd (ro)\r\n",
      "Conditions:\r\n",
      "  Type              Status\r\n",
      "  Initialized       True \r\n",
      "  Ready             True \r\n",
      "  ContainersReady   True \r\n",
      "  PodScheduled      True \r\n",
      "Volumes:\r\n",
      "  default-token-bqlrd:\r\n",
      "    Type:        Secret (a volume populated by a Secret)\r\n",
      "    SecretName:  default-token-bqlrd\r\n",
      "    Optional:    false\r\n",
      "QoS Class:       BestEffort\r\n",
      "Node-Selectors:  <none>\r\n",
      "Tolerations:     node.kubernetes.io/not-ready:NoExecute op=Exists for 300s\r\n",
      "                 node.kubernetes.io/unreachable:NoExecute op=Exists for 300s\r\n",
      "Events:\r\n",
      "  Type    Reason     Age   From               Message\r\n",
      "  ----    ------     ----  ----               -------\r\n",
      "  Normal  Scheduled  31m   default-scheduler  Successfully assigned default/filefighter-db-deployment-5bcf8f5f7b-jbdlb to minikube\r\n",
      "  Normal  Pulling    31m   kubelet            Pulling image \"mongo:latest\"\r\n",
      "  Normal  Pulled     31m   kubelet            Successfully pulled image \"mongo:latest\" in 1.805469218s\r\n",
      "  Normal  Created    31m   kubelet            Created container ff-db\r\n",
      "  Normal  Started    31m   kubelet            Started container ff-db\r\n"
     ]
    }
   ],
   "source": [
    "! kubectl describe pods -l app=filefighter-db"
   ]
  },
  {
   "cell_type": "markdown",
   "metadata": {
    "slideshow": {
     "slide_type": "subslide"
    }
   },
   "source": [
    "# Deployment\n",
    "* gibt den gewünschten Zustand eines Deployments an\n",
    "* beschreibt Pods\n",
    "* ermöglicht Skalierung (ReplicaSets)"
   ]
  },
  {
   "cell_type": "code",
   "execution_count": 8,
   "metadata": {
    "slideshow": {
     "slide_type": "fragment"
    }
   },
   "outputs": [
    {
     "name": "stdout",
     "output_type": "stream",
     "text": [
      "NAME                          READY   UP-TO-DATE   AVAILABLE   AGE\r\n",
      "filefighter-db-deployment     1/1     1            1           23h\r\n",
      "filefighter-fe-deployment     2/2     2            2           5d1h\r\n",
      "filefighter-rest-deployment   1/1     1            1           5d\r\n"
     ]
    }
   ],
   "source": [
    "! kubectl get deployments"
   ]
  },
  {
   "cell_type": "code",
   "execution_count": 9,
   "metadata": {
    "slideshow": {
     "slide_type": "subslide"
    }
   },
   "outputs": [
    {
     "name": "stdout",
     "output_type": "stream",
     "text": [
      "Name:                   filefighter-db-deployment\r\n",
      "Namespace:              default\r\n",
      "CreationTimestamp:      Sat, 07 Nov 2020 15:35:17 +0100\r\n",
      "Labels:                 app=filefighter\r\n",
      "Annotations:            deployment.kubernetes.io/revision: 2\r\n",
      "Selector:               app=filefighter-db\r\n",
      "Replicas:               1 desired | 1 updated | 1 total | 1 available | 0 unavailable\r\n",
      "StrategyType:           RollingUpdate\r\n",
      "MinReadySeconds:        0\r\n",
      "RollingUpdateStrategy:  25% max unavailable, 25% max surge\r\n",
      "Pod Template:\r\n",
      "  Labels:  app=filefighter-db\r\n",
      "  Containers:\r\n",
      "   ff-db:\r\n",
      "    Image:      mongo:latest\r\n",
      "    Port:       27017/TCP\r\n",
      "    Host Port:  0/TCP\r\n",
      "    Environment:\r\n",
      "      MONGO_INITDB:                filefighter\r\n",
      "      MONGO_INITDB_ROOT_USERNAME:  <set to the key 'username' in secret 'ff-secret'>  Optional: false\r\n",
      "      MONGO_INITDB_ROOT_PASSWORD:  <set to the key 'password' in secret 'ff-secret'>  Optional: false\r\n",
      "    Mounts:                        <none>\r\n",
      "  Volumes:                         <none>\r\n",
      "Conditions:\r\n",
      "  Type           Status  Reason\r\n",
      "  ----           ------  ------\r\n",
      "  Available      True    MinimumReplicasAvailable\r\n",
      "  Progressing    True    NewReplicaSetAvailable\r\n",
      "OldReplicaSets:  <none>\r\n",
      "NewReplicaSet:   filefighter-db-deployment-5bcf8f5f7b (1/1 replicas created)\r\n",
      "Events:\r\n",
      "  Type    Reason             Age   From                   Message\r\n",
      "  ----    ------             ----  ----                   -------\r\n",
      "  Normal  ScalingReplicaSet  31m   deployment-controller  Scaled up replica set filefighter-db-deployment-5bcf8f5f7b to 1\r\n",
      "  Normal  ScalingReplicaSet  31m   deployment-controller  Scaled down replica set filefighter-db-deployment-7f64f99568 to 0\r\n"
     ]
    }
   ],
   "source": [
    "! kubectl describe deployment filefighter-db-deployment"
   ]
  },
  {
   "cell_type": "markdown",
   "metadata": {
    "slideshow": {
     "slide_type": "subslide"
    }
   },
   "source": [
    "# Services\n",
    "* Addressierung der Pods\n",
    "* inklusive Loadbalancing\n",
    "* ermöglicht z.B. Kommunikation zwischen Pods"
   ]
  },
  {
   "cell_type": "markdown",
   "metadata": {
    "slideshow": {
     "slide_type": "fragment"
    }
   },
   "source": [
    "<img src=\"assets/services.png\"  style=\"max-height:60vh\"/>"
   ]
  },
  {
   "cell_type": "code",
   "execution_count": 10,
   "metadata": {
    "slideshow": {
     "slide_type": "fragment"
    }
   },
   "outputs": [
    {
     "name": "stdout",
     "output_type": "stream",
     "text": [
      "NAME              TYPE           CLUSTER-IP      EXTERNAL-IP     PORT(S)        AGE\r\n",
      "ff-db-service     ClusterIP      10.97.167.246   <none>          27017/TCP      5d\r\n",
      "ff-fe-service     LoadBalancer   10.105.66.133   10.105.66.133   80:32400/TCP   5d21h\r\n",
      "ff-rest-service   ClusterIP      10.96.82.25     <none>          80/TCP         5d21h\r\n",
      "kubernetes        ClusterIP      10.96.0.1       <none>          443/TCP        6d3h\r\n"
     ]
    }
   ],
   "source": [
    "! kubectl get services"
   ]
  },
  {
   "cell_type": "markdown",
   "metadata": {
    "slideshow": {
     "slide_type": "subslide"
    }
   },
   "source": [
    "# Volumes\n",
    "* da Container zustandlos sind müssen die Daten an anderer Stelle gespeichert werden\n",
    "* können von Containern gemountet werden\n",
    "* gibt verschiedene Volumetypen je nach Anwendungsfall\n"
   ]
  },
  {
   "cell_type": "markdown",
   "metadata": {
    "slideshow": {
     "slide_type": "subslide"
    }
   },
   "source": [
    "# Secrets\n",
    "* zum Speichern senitiver Daten\n",
    "* werden in Container eingebunden\n",
    "* entweder als Datei oder als Umgebungsvariablen"
   ]
  },
  {
   "cell_type": "code",
   "execution_count": 11,
   "metadata": {
    "slideshow": {
     "slide_type": "fragment"
    }
   },
   "outputs": [
    {
     "name": "stdout",
     "output_type": "stream",
     "text": [
      "NAME                  TYPE                                  DATA   AGE\r\n",
      "default-token-bqlrd   kubernetes.io/service-account-token   3      6d3h\r\n",
      "ff-secret             kubernetes.io/basic-auth              2      5d\r\n"
     ]
    }
   ],
   "source": [
    "! kubectl get secrets"
   ]
  },
  {
   "cell_type": "markdown",
   "metadata": {
    "slideshow": {
     "slide_type": "slide"
    }
   },
   "source": [
    "# Deployment Beispiel"
   ]
  },
  {
   "cell_type": "markdown",
   "metadata": {
    "slideshow": {
     "slide_type": "fragment"
    }
   },
   "source": [
    "# FileFighter\n",
    "\n",
    "<img src=\"assets/ff-logo.png\" alt=\"k8s-logo\" style=\"max-width: 400px;\"/>"
   ]
  },
  {
   "cell_type": "markdown",
   "metadata": {
    "slideshow": {
     "slide_type": "subslide"
    }
   },
   "source": [
    "# Architektur\n",
    "<img src=\"assets/arch2.svg\" style=\"width:1000px\"/>"
   ]
  },
  {
   "cell_type": "markdown",
   "metadata": {
    "slideshow": {
     "slide_type": "subslide"
    }
   },
   "source": [
    "# Live Demo\n",
    "* YAML Dateien"
   ]
  },
  {
   "cell_type": "markdown",
   "metadata": {
    "slideshow": {
     "slide_type": "fragment"
    }
   },
   "source": [
    "* self-healing (inklusive livenessProbe)\n",
    "* loadblancing (mit hello-kubernetes)"
   ]
  },
  {
   "cell_type": "markdown",
   "metadata": {
    "slideshow": {
     "slide_type": "fragment"
    }
   },
   "source": [
    "# Kubernetes Dashboard\n",
    "```\n",
    "minikube dashboard\n",
    "```"
   ]
  },
  {
   "cell_type": "markdown",
   "metadata": {
    "slideshow": {
     "slide_type": "slide"
    }
   },
   "source": [
    "# Buchtipp\n",
    "<img src=\"assets/book.png\" style=\"max-height:60vh\"/>\n",
    "\n",
    "als Ebook frei [erhältlich](https://scholar.google.com/scholar?hl=de&as_sdt=0%2C5&q=kubernetes+up+and+running&btnG=&oq=kubernetes+up+)\n",
    "\n"
   ]
  },
  {
   "cell_type": "markdown",
   "metadata": {
    "slideshow": {
     "slide_type": "subslide"
    }
   },
   "source": [
    "# \"Hausaufgabe\" - zum drüber nachdenken\n",
    "## Zu Eurem SE Projekt:\n",
    "* Benutzt Ihr Docker?\n",
    "* Habt Ihr eine Microservices Architektur?\n",
    "* Welche Teile Eurer Anwendung sind skalierbar?\n",
    "* Wie könntet Ihr Eure Anwendung in Kubernetes betreiben?\n"
   ]
  },
  {
   "cell_type": "markdown",
   "metadata": {
    "slideshow": {
     "slide_type": "subslide"
    }
   },
   "source": [
    "# Vielen Dank für Eure Aufmerksamkeit"
   ]
  }
 ],
 "metadata": {
  "celltoolbar": "Slideshow",
  "kernelspec": {
   "display_name": "Python 3",
   "language": "python",
   "name": "python3"
  },
  "language_info": {
   "codemirror_mode": {
    "name": "ipython",
    "version": 3
   },
   "file_extension": ".py",
   "mimetype": "text/x-python",
   "name": "python",
   "nbconvert_exporter": "python",
   "pygments_lexer": "ipython3",
   "version": "3.8.3"
  }
 },
 "nbformat": 4,
 "nbformat_minor": 4
}
